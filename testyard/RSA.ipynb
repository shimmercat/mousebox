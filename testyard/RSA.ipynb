{
 "cells": [
  {
   "cell_type": "markdown",
   "metadata": {},
   "source": [
    "Use the idiom below to import Crypto.Random, due to a bug in iHaskell with the extension PackageImports"
   ]
  },
  {
   "cell_type": "code",
   "execution_count": 21,
   "metadata": {
    "collapsed": false
   },
   "outputs": [
    {
     "data": {
      "text/plain": []
     },
     "metadata": {},
     "output_type": "display_data"
    },
    {
     "data": {
      "text/plain": []
     },
     "metadata": {},
     "output_type": "display_data"
    },
    {
     "data": {
      "text/plain": []
     },
     "metadata": {},
     "output_type": "display_data"
    },
    {
     "data": {
      "text/plain": []
     },
     "metadata": {},
     "output_type": "display_data"
    }
   ],
   "source": [
    ":ext OverloadedStrings\n",
    ":!rm himports.hs\n",
    ":!echo \"{-# LANGUAGE PackageImports #-}\" >> himports.hs\n",
    ":!echo \"module MouseBoxImports( module Crypto.Random ) where\" >> himports.hs\n",
    ":!echo \"import  \\\"crypto-api\\\" Crypto.Random\" >> himports.hs\n",
    ":load himports"
   ]
  },
  {
   "cell_type": "code",
   "execution_count": 22,
   "metadata": {
    "collapsed": true
   },
   "outputs": [],
   "source": [
    "import qualified Data.ByteString as B\n",
    "import qualified Data.ByteString.Lazy as LB"
   ]
  },
  {
   "cell_type": "code",
   "execution_count": 23,
   "metadata": {
    "collapsed": true
   },
   "outputs": [],
   "source": [
    "import Codec.Crypto.RSA.Pure"
   ]
  },
  {
   "cell_type": "code",
   "execution_count": 24,
   "metadata": {
    "collapsed": false
   },
   "outputs": [],
   "source": [
    "g <- newGenIO :: IO SystemRandom"
   ]
  },
  {
   "cell_type": "code",
   "execution_count": 25,
   "metadata": {
    "collapsed": false
   },
   "outputs": [
    {
     "data": {},
     "metadata": {},
     "output_type": "display_data"
    }
   ],
   "source": [
    ":info SystemRandom"
   ]
  },
  {
   "cell_type": "code",
   "execution_count": 26,
   "metadata": {
    "collapsed": false
   },
   "outputs": [],
   "source": [
    "let Right (public_key, private_key, g') = generateKeyPair g 2048"
   ]
  },
  {
   "cell_type": "code",
   "execution_count": 27,
   "metadata": {
    "collapsed": false
   },
   "outputs": [],
   "source": [
    "let Codec.Crypto.RSA.Pure.PublicKey public_size public_n public_e =  public_key"
   ]
  },
  {
   "cell_type": "code",
   "execution_count": 28,
   "metadata": {
    "collapsed": false
   },
   "outputs": [],
   "source": [
    "import Data.X509\n",
    "import Data.ASN1.OID\n",
    "import Data.ASN1.Types.String\n",
    "import Data.Hourglass.Types\n",
    "import Crypto.PubKey.RSA.Types\n",
    "\n",
    "import qualified Data.Binary as Bn"
   ]
  },
  {
   "cell_type": "code",
   "execution_count": 29,
   "metadata": {
    "collapsed": false
   },
   "outputs": [],
   "source": [
    "stringize :: B.ByteString -> ASN1CharacterString \n",
    "stringize s = ASN1CharacterString IA5 s"
   ]
  },
  {
   "cell_type": "code",
   "execution_count": 30,
   "metadata": {
    "collapsed": false
   },
   "outputs": [
    {
     "data": {
      "text/html": [
       "<style>/*\n",
       "Custom IHaskell CSS.\n",
       "*/\n",
       "\n",
       "/* Styles used for the Hoogle display in the pager */\n",
       ".hoogle-doc {\n",
       "    display: block;\n",
       "    padding-bottom: 1.3em;\n",
       "    padding-left: 0.4em;\n",
       "}\n",
       ".hoogle-code {\n",
       "    display: block;\n",
       "    font-family: monospace;\n",
       "    white-space: pre;\n",
       "}\n",
       ".hoogle-text {\n",
       "    display: block;\n",
       "}\n",
       ".hoogle-name {\n",
       "    color: green;\n",
       "    font-weight: bold;\n",
       "}\n",
       ".hoogle-head {\n",
       "    font-weight: bold;\n",
       "}\n",
       ".hoogle-sub {\n",
       "    display: block;\n",
       "    margin-left: 0.4em;\n",
       "}\n",
       ".hoogle-package {\n",
       "    font-weight: bold;\n",
       "    font-style: italic;\n",
       "}\n",
       ".hoogle-module {\n",
       "    font-weight: bold;\n",
       "}\n",
       ".hoogle-class {\n",
       "    font-weight: bold;\n",
       "}\n",
       "\n",
       "/* Styles used for basic displays */\n",
       ".get-type {\n",
       "    color: green;\n",
       "    font-weight: bold;\n",
       "    font-family: monospace;\n",
       "    display: block;\n",
       "    white-space: pre-wrap;\n",
       "}\n",
       "\n",
       ".show-type {\n",
       "    color: green;\n",
       "    font-weight: bold;\n",
       "    font-family: monospace;\n",
       "    margin-left: 1em;\n",
       "}\n",
       "\n",
       ".mono {\n",
       "    font-family: monospace;\n",
       "    display: block;\n",
       "}\n",
       "\n",
       ".err-msg {\n",
       "    color: red;\n",
       "    font-style: italic;\n",
       "    font-family: monospace;\n",
       "    white-space: pre;\n",
       "    display: block;\n",
       "}\n",
       "\n",
       "#unshowable {\n",
       "    color: red;\n",
       "    font-weight: bold;\n",
       "}\n",
       "\n",
       ".err-msg.in.collapse {\n",
       "  padding-top: 0.7em;\n",
       "}\n",
       "\n",
       "/* Code that will get highlighted before it is highlighted */\n",
       ".highlight-code {\n",
       "    white-space: pre;\n",
       "    font-family: monospace;\n",
       "}\n",
       "\n",
       "/* Hlint styles */\n",
       ".suggestion-warning { \n",
       "    font-weight: bold;\n",
       "    color: rgb(200, 130, 0);\n",
       "}\n",
       ".suggestion-error { \n",
       "    font-weight: bold;\n",
       "    color: red;\n",
       "}\n",
       ".suggestion-name {\n",
       "    font-weight: bold;\n",
       "}\n",
       "</style><span class='get-type'>PubKeyRSA $ Crypto.PubKey.RSA.Types.PublicKey public_size public_n public_e :: PubKey</span>"
      ],
      "text/plain": [
       "PubKeyRSA $ Crypto.PubKey.RSA.Types.PublicKey public_size public_n public_e :: PubKey"
      ]
     },
     "metadata": {},
     "output_type": "display_data"
    }
   ],
   "source": [
    ":type PubKeyRSA $ Crypto.PubKey.RSA.Types.PublicKey public_size public_n public_e"
   ]
  },
  {
   "cell_type": "code",
   "execution_count": 31,
   "metadata": {
    "collapsed": false
   },
   "outputs": [
    {
     "data": {
      "text/plain": [
       "PubKeyALG_RSA"
      ]
     },
     "metadata": {},
     "output_type": "display_data"
    }
   ],
   "source": [
    "pubkeyToAlg . PubKeyRSA $ Crypto.PubKey.RSA.Types.PublicKey public_size public_n public_e"
   ]
  },
  {
   "cell_type": "code",
   "execution_count": 32,
   "metadata": {
    "collapsed": true
   },
   "outputs": [],
   "source": [
    "publicKeyHasher :: Codec.Crypto.RSA.Pure.PublicKey -> B.ByteString\n",
    "publicKeyHasher pk = LB.toStrict . LB.take 20 . Bn.encode $ pk"
   ]
  },
  {
   "cell_type": "code",
   "execution_count": 33,
   "metadata": {
    "collapsed": false
   },
   "outputs": [],
   "source": [
    "let \n",
    "  ca_common_name = \"MouseBox Testing Cert. Authority # affewx \"\n",
    "  pubkey_to_use = PubKeyRSA $ Crypto.PubKey.RSA.Types.PublicKey public_size public_n public_e\n",
    "  ca_dn = DistinguishedName [\n",
    "        (getObjectID DnCommonName, stringize ca_common_name),\n",
    "        (getObjectID DnCountry, stringize \"SE\"),\n",
    "        (getObjectID DnOrganization, stringize \"MouseBox by Zunzun AB\"),\n",
    "        (getObjectID DnOrganizationUnit, stringize \"Testing\")\n",
    "        ]\n",
    "  a_cert =  Certificate {\n",
    "      certVersion = 2 -- There are three different versions of X.509. \n",
    "      -- The certificate has to claim what version it uses. \n",
    "      -- So you'll find this Version: field in the certificate. \n",
    "      -- The most recent version is 3 and this is the most used version.\n",
    "      -- X.509 version 3 defines extensions. \n",
    "      -- So for example, they are used for certificate chains.\n",
    "     , certSerial = 1\n",
    "     , certSignatureAlg = SignatureALG HashSHA384 (pubkeyToAlg pubkey_to_use)\n",
    "     , certIssuerDN = ca_dn\n",
    "     , certValidity = (\n",
    "         DateTime {dtDate = Date 2015 January 1, dtTime = TimeOfDay 0 0 0 0},\n",
    "         DateTime {dtDate = Date 2025 December 31, dtTime = TimeOfDay 23 59 0 0}\n",
    "         )\n",
    "     , certSubjectDN = ca_dn\n",
    "     , certPubKey = PubKeyRSA $ Crypto.PubKey.RSA.Types.PublicKey public_size public_n public_e\n",
    "     -- TODO: We need to set a few extensions here....\n",
    "     , certExtensions = Extensions (Just\n",
    "         -- The set of extensions below is specific to CAs\n",
    "         [\n",
    "             extensionEncode True {-Critical-} (ExtKeyUsage [KeyUsage_keyCertSign]),\n",
    "             extensionEncode True              (ExtBasicConstraints True \n",
    "                 -- The field below says that leaf certificates must be signed by this one.\n",
    "                 -- A little bit in the way of extra-security...\n",
    "                 (Just 0)\n",
    "             ),\n",
    "             extensionEncode True               (ExtSubjectKeyId . publicKeyHasher $ public_key )\n",
    "         ]\n",
    "       )\n",
    "    }"
   ]
  },
  {
   "cell_type": "code",
   "execution_count": 34,
   "metadata": {
    "collapsed": false
   },
   "outputs": [],
   "source": [
    "hereSign :: B.ByteString -> (B.ByteString, SignatureALG, ())\n",
    "hereSign stuff_to_sign = let\n",
    "    Right  bs_sign = rsassa_pkcs1_v1_5_sign hashSHA384 private_key . LB.fromStrict $ stuff_to_sign\n",
    "  in (LB.toStrict bs_sign, SignatureALG HashSHA384 PubKeyALG_RSA, () )"
   ]
  },
  {
   "cell_type": "code",
   "execution_count": 35,
   "metadata": {
    "collapsed": false
   },
   "outputs": [],
   "source": [
    "let (signed_exact_obj, _) = objectToSignedExact hereSign a_cert"
   ]
  },
  {
   "cell_type": "code",
   "execution_count": 36,
   "metadata": {
    "collapsed": false
   },
   "outputs": [
    {
     "data": {
      "text/plain": []
     },
     "metadata": {},
     "output_type": "display_data"
    }
   ],
   "source": [
    "B.writeFile \"a_cert.der\" $ encodeSignedObject signed_exact_obj"
   ]
  },
  {
   "cell_type": "code",
   "execution_count": 37,
   "metadata": {
    "collapsed": true
   },
   "outputs": [],
   "source": [
    "import Data.PEM"
   ]
  },
  {
   "cell_type": "code",
   "execution_count": 38,
   "metadata": {
    "collapsed": false
   },
   "outputs": [],
   "source": [
    "let \n",
    "   pem_formatted = PEM {\n",
    "      pemName = \"CERTIFICATE\",\n",
    "      pemHeader = [],\n",
    "      pemContent = encodeSignedObject signed_exact_obj\n",
    "      }\n",
    "B.writeFile \"a_cert.pem\" . pemWriteBS $ pem_formatted"
   ]
  },
  {
   "cell_type": "code",
   "execution_count": 39,
   "metadata": {
    "collapsed": false
   },
   "outputs": [
    {
     "data": {
      "text/plain": [
       "a_cert.pem: OK"
      ]
     },
     "metadata": {},
     "output_type": "display_data"
    }
   ],
   "source": [
    ":!openssl verify -check_ss_sig -trusted a_cert.pem  a_cert.pem"
   ]
  },
  {
   "cell_type": "code",
   "execution_count": null,
   "metadata": {
    "collapsed": true
   },
   "outputs": [],
   "source": []
  }
 ],
 "metadata": {
  "kernelspec": {
   "display_name": "Haskell",
   "language": "haskell",
   "name": "haskell"
  },
  "language_info": {
   "codemirror_mode": "ihaskell",
   "file_extension": ".hs",
   "name": "haskell",
   "version": "7.10.2"
  }
 },
 "nbformat": 4,
 "nbformat_minor": 0
}
